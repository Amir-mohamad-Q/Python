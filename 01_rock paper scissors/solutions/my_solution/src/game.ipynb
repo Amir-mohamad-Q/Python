{
 "cells": [
  {
   "cell_type": "code",
   "execution_count": 29,
   "id": "29e65a3f",
   "metadata": {},
   "outputs": [
    {
     "name": "stdout",
     "output_type": "stream",
     "text": [
      "your choice: rock\n",
      "computer choice: rock\n",
      "it's a Tie! \n",
      "your choice: rock\n",
      "computer choice: paper\n",
      "Computer won!\n"
     ]
    }
   ],
   "source": [
    "import random\n",
    "\n",
    "\n",
    "class RockPaperScissors():\n",
    "    def __init__(self,player_name):\n",
    "        self.choices = ['rock','paper','scissors']\n",
    "        self.player_name = player_name\n",
    "\n",
    "    def get_player_choice(self: str) -> str:\n",
    "        player_choice = input(f\"enter your choice ({self.choices}) : \")\n",
    "\n",
    "        if player_choice.lower() in self.choices:\n",
    "            return player_choice\n",
    "        \n",
    "        print(f'you must select from {self.choices}')\n",
    "        self.get_player_choice()\n",
    "\n",
    "    def get_computer_choice(self: str) -> str:\n",
    "        return random.choice(self.choices)\n",
    "        \n",
    "    def deside_winner(self,player_choice,computer_choice :list[str]) -> str:\n",
    "        if player_choice == computer_choice:\n",
    "            return \"it's a Tie! \"\n",
    "        \n",
    "        win_combinations =[('rock','scissors'),('paper','rock'),('scissors','paper')]\n",
    "        for win_com in win_combinations:\n",
    "            if (player_choice == win_com[0]) & (computer_choice == win_com[1]):\n",
    "                return 'Player won!'\n",
    "        return 'Computer won!'\n",
    "\n",
    "    def winner_msg(self,winner):\n",
    "        print(winner)\n",
    "\n",
    "    def play(self):\n",
    "        player_choice = self.get_player_choice()\n",
    "        computer_choice = self.get_computer_choice()\n",
    "        print(f'your choice: {player_choice}\\ncomputer choice: {computer_choice}')\n",
    "        winner = self.deside_winner(player_choice,computer_choice)\n",
    "        self.winner_msg(winner)\n",
    "\n",
    "\n",
    "\n",
    "\n",
    "if __name__ == '__main__':\n",
    "    game = RockPaperScissors('amir')\n",
    "\n",
    "    while True:\n",
    "        game.play()\n",
    "        continue_game = input('Press ane key for continue AND Q/q for quite: ')\n",
    "        if continue_game.lower() == 'q':\n",
    "            break \n"
   ]
  }
 ],
 "metadata": {
  "kernelspec": {
   "display_name": "base",
   "language": "python",
   "name": "python3"
  },
  "language_info": {
   "codemirror_mode": {
    "name": "ipython",
    "version": 3
   },
   "file_extension": ".py",
   "mimetype": "text/x-python",
   "name": "python",
   "nbconvert_exporter": "python",
   "pygments_lexer": "ipython3",
   "version": "3.12.11"
  }
 },
 "nbformat": 4,
 "nbformat_minor": 5
}

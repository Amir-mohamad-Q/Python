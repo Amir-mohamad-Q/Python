{
 "cells": [
  {
   "cell_type": "code",
   "execution_count": null,
   "id": "5a93a4ad",
   "metadata": {},
   "outputs": [],
   "source": [
    "import random"
   ]
  },
  {
   "cell_type": "code",
   "execution_count": 63,
   "id": "a3f85876",
   "metadata": {},
   "outputs": [],
   "source": [
    "def validation_inpot(user_guess):\n",
    "    \n",
    "    if not user_guess.isdigit():\n",
    "        print(f'invalid inpot. try a number between 1-6.{user_guess}')\n",
    "        return False\n",
    "    if 7 < int(user_guess) or 0 > int(user_guess):\n",
    "        print('please enter a number between 1-6')\n",
    "        return False\n",
    "    return True"
   ]
  },
  {
   "cell_type": "code",
   "execution_count": 65,
   "id": "8f46ca2a",
   "metadata": {},
   "outputs": [
    {
     "name": "stdout",
     "output_type": "stream",
     "text": [
      "you win! with 5 number :)\n",
      "score: 100\n",
      "--------------------\n",
      "you faile :(\n",
      "score: 95\n",
      "--------------------\n",
      "you faile :(\n",
      "score: 90\n",
      "--------------------\n",
      "thank ypu for playing.\n",
      "90\n"
     ]
    }
   ],
   "source": [
    "score = 100\n",
    "while True:\n",
    "    guess = random.randint(1,6)\n",
    "    user_guess = input('Guess a number between 1-6')\n",
    "    if user_guess == 'q':\n",
    "        print('thank ypu for playing.')\n",
    "        break\n",
    "\n",
    "        print(user_guess.type())\n",
    "    if not validation_inpot(user_guess):\n",
    "        continue\n",
    "\n",
    "    if int(user_guess) == guess:\n",
    "        print(f\"you win! with {user_guess} number :)\\nscore: {score}\\n--------------------\") \n",
    "    else : \n",
    "        score -= 5\n",
    "        print(f\"you faile :(\\nscore: {score}\\n--------------------\")\n",
    "print(score)"
   ]
  }
 ],
 "metadata": {
  "kernelspec": {
   "display_name": "base",
   "language": "python",
   "name": "python3"
  },
  "language_info": {
   "codemirror_mode": {
    "name": "ipython",
    "version": 3
   },
   "file_extension": ".py",
   "mimetype": "text/x-python",
   "name": "python",
   "nbconvert_exporter": "python",
   "pygments_lexer": "ipython3",
   "version": "3.12.11"
  }
 },
 "nbformat": 4,
 "nbformat_minor": 5
}

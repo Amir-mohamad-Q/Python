{
 "cells": [
  {
   "cell_type": "markdown",
   "id": "b5d970b0",
   "metadata": {},
   "source": [
    "- parent: PasswordGenerator\n",
    "    - Abstrackt\n",
    "    - methods: __init__ , generate\n",
    "- Random password generator\n",
    "- memorable password generator\n",
    "- pin generator"
   ]
  },
  {
   "cell_type": "code",
   "execution_count": 117,
   "id": "f5edc40f",
   "metadata": {},
   "outputs": [],
   "source": [
    "from abc import ABC , abstractmethod\n",
    "import random\n",
    "import string\n",
    "import nltk\n",
    "\n",
    "\n",
    "if nltk.corpus.words.words() is None :\n",
    "    nltk.download('words')\n",
    "\n",
    "\n",
    "class PasswordGenerator(ABC):\n",
    "    @abstractmethod\n",
    "    def generate(self):\n",
    "        pass"
   ]
  },
  {
   "cell_type": "code",
   "execution_count": 123,
   "id": "9b0ae914",
   "metadata": {},
   "outputs": [
    {
     "data": {
      "text/plain": [
       "'aleurites COLUBER'"
      ]
     },
     "execution_count": 123,
     "metadata": {},
     "output_type": "execute_result"
    }
   ],
   "source": [
    "class PinGenerator(PasswordGenerator):\n",
    "    def __init__(self,length):\n",
    "        self.length = length\n",
    "\n",
    "    def generate(self): \n",
    "        return ''.join([random.choice(string.digits) for _ in range(self.length)])\n",
    "# pin_gen = PinGenerator(8)\n",
    "# pin_gen.generate()\n",
    "\n",
    "\n",
    "class RandomPasswordGenerator(PasswordGenerator):\n",
    "    def __init__(self,length: int = 8, include_sambols: bool = False, include_numbers: bool = False):\n",
    "        self.length = length\n",
    "        self.char = string.ascii_letters\n",
    "        if include_sambols:\n",
    "            self.char += string.punctuation\n",
    "        if include_numbers:\n",
    "            self.char += string.digits\n",
    "\n",
    "    def generate(self): \n",
    "        return ''.join([random.choice(self.char) for _ in range(self.length)])\n",
    "# pass_gen = RandomPasswordGenerator(8,True,True)\n",
    "# pass_gen.generate()\n",
    "\n",
    "\n",
    "class MemorablePasswordGenerator(PasswordGenerator):\n",
    "    def __init__(\n",
    "        self,num_of_words: int = 4,\n",
    "        separator: str = '-',\n",
    "        caplitalization: bool = False,\n",
    "        vocabulary: list = None\n",
    "    ):\n",
    "        if vocabulary is None:\n",
    "            self.vocabulary = nltk.corpus.words.words()\n",
    "        vocabulary = vocabulary\n",
    "        self.num_of_words = num_of_words\n",
    "        self.separator = separator\n",
    "        self.caplitalization = caplitalization\n",
    "\n",
    "\n",
    "    def generate(self): \n",
    "        password_words = [random.choice(self.vocabulary) for _ in range(self.num_of_words)]\n",
    "        if self.caplitalization:\n",
    "              return self.separator.join(\n",
    "                [word.upper() if random.choice([False,True]) else word.lower() for word in password_words])\n",
    "        return self.separator.join(password_words)\n",
    "\n",
    "memorable_pass_gen = MemorablePasswordGenerator(num_of_words=2,separator=' ',caplitalization=True)\n",
    "memorable_pass_gen.generate()"
   ]
  }
 ],
 "metadata": {
  "kernelspec": {
   "display_name": "base",
   "language": "python",
   "name": "python3"
  },
  "language_info": {
   "codemirror_mode": {
    "name": "ipython",
    "version": 3
   },
   "file_extension": ".py",
   "mimetype": "text/x-python",
   "name": "python",
   "nbconvert_exporter": "python",
   "pygments_lexer": "ipython3",
   "version": "3.12.11"
  }
 },
 "nbformat": 4,
 "nbformat_minor": 5
}
